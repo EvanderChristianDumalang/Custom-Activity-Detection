{
 "cells": [
  {
   "cell_type": "code",
   "execution_count": null,
   "metadata": {},
   "outputs": [],
   "source": [
    "import Augmentor\n",
    "import cv2\n",
    "import glob"
   ]
  },
  {
   "cell_type": "code",
   "execution_count": null,
   "metadata": {},
   "outputs": [],
   "source": [
    "#Cropping\n",
    "img_dir = \"directory of images\"\n",
    "data_path = os.path.join(img_dir,'*g') \n",
    "files = glob.glob(data_path) \n",
    "\n",
    "for idx, file in enumerate(files):\n",
    "    im = cv2.imread(file)\n",
    "    image_height, image_width, _ = im.shape # Get dimensions of image\n",
    "    x = 0\n",
    "    y = 0\n",
    "    h=int(image_height) # height of the cropped image\n",
    "    w=int(image_width) # width of the cropped image\n",
    "    crop_image = im[x:w, y:h]\n",
    "    cv2.imwrite(r'directory for cropped images' + str(idx) + '.jpg', crop_image)\n",
    "cv2.waitKey(0) "
   ]
  },
  {
   "cell_type": "code",
   "execution_count": null,
   "metadata": {},
   "outputs": [],
   "source": [
    "# Checking Folder for Augmentation\n",
    "img_dir = \"directory of images\"\n",
    "p = Augmentor.Pipeline(img_dir)"
   ]
  },
  {
   "cell_type": "code",
   "execution_count": null,
   "metadata": {},
   "outputs": [],
   "source": [
    "#Brightness Augmentation\n",
    "p.random_brightness(probability=1, min_factor=0.25, max_factor=0.25) # factor of brightness\n",
    "p.process()"
   ]
  },
  {
   "cell_type": "code",
   "execution_count": null,
   "metadata": {},
   "outputs": [],
   "source": [
    "# Filpping Augmentation\n",
    "p.flip_left_right(probability=1) # flip left to right or right to left\n",
    "p.process()"
   ]
  },
  {
   "cell_type": "code",
   "execution_count": null,
   "metadata": {},
   "outputs": [],
   "source": [
    "# Filpping Augmentation\n",
    "p.flip_top_bottom(probability=1) # flip top to bottom or bottom to top\n",
    "p.process()"
   ]
  },
  {
   "cell_type": "code",
   "execution_count": null,
   "metadata": {},
   "outputs": [],
   "source": [
    "# Rotate Augmentation\n",
    "p.rotate(probability=1, max_left_rotation=25, max_right_rotation=25) # factor of rotation\n",
    "p.process()"
   ]
  },
  {
   "cell_type": "code",
   "execution_count": null,
   "metadata": {},
   "outputs": [],
   "source": [
    "# rotate90 Augmentation\n",
    "p.rotate90(probability=1) \n",
    "p.process()"
   ]
  },
  {
   "cell_type": "code",
   "execution_count": null,
   "metadata": {},
   "outputs": [],
   "source": [
    "# Zoom Augmentation\n",
    "p.zoom(probability=1, min_factor=1.1, max_factor=1.1) # factor of zoom\n",
    "p.process()"
   ]
  },
  {
   "cell_type": "code",
   "execution_count": null,
   "metadata": {},
   "outputs": [],
   "source": [
    "# Skew Top & Bottom Augmentation\n",
    "p.skew_top_bottom(probability=1, magnitude=1) # factor of skew\n",
    "p.process()"
   ]
  },
  {
   "cell_type": "code",
   "execution_count": null,
   "metadata": {},
   "outputs": [],
   "source": [
    "# Skew Left & Right Augmentation\n",
    "p.skew_left_right(probability=1, magnitude=0.001) # factor of skew\n",
    "p.process()"
   ]
  },
  {
   "cell_type": "code",
   "execution_count": null,
   "metadata": {},
   "outputs": [],
   "source": [
    "# Shear Augmentation\n",
    "p.shear(probability=1, max_shear_left=0.01, max_shear_right=0.001) # factor of shear\n",
    "p.process()"
   ]
  }
 ],
 "metadata": {
  "interpreter": {
   "hash": "b4f35bca6a71977831938391b01dd58e3be6d850637f3133a6b1f36e4548f4f9"
  },
  "kernelspec": {
   "display_name": "Python 3.8.6 64-bit",
   "language": "python",
   "name": "python3"
  },
  "language_info": {
   "codemirror_mode": {
    "name": "ipython",
    "version": 3
   },
   "file_extension": ".py",
   "mimetype": "text/x-python",
   "name": "python",
   "nbconvert_exporter": "python",
   "pygments_lexer": "ipython3",
   "version": "3.8.6"
  },
  "orig_nbformat": 4
 },
 "nbformat": 4,
 "nbformat_minor": 2
}
