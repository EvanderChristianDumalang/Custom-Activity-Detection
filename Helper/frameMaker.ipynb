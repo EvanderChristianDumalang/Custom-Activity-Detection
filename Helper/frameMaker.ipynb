{
 "cells": [
  {
   "cell_type": "code",
   "execution_count": null,
   "metadata": {},
   "outputs": [],
   "source": [
    "# image for all frames in a video\n",
    "import cv2\n",
    "vidcap = cv2.VideoCapture(r\"direcory path for video\")\n",
    "success,image = vidcap.read()\n",
    "count = 0\n",
    "while success:\n",
    "  cv2.imwrite(\"directory path and name for file%a.jpg\" % count, image) # save frame as JPEG file      \n",
    "  success,image = vidcap.read()\n",
    "  print('Read a new frame: ', success)\n",
    "  count += 1"
   ]
  },
  {
   "cell_type": "code",
   "execution_count": null,
   "metadata": {},
   "outputs": [],
   "source": [
    "# images for every nth frame in a video\n",
    "import os\n",
    "import cv2\n",
    "pathOut = r\"directory path for frames\"\n",
    "count = 0\n",
    "counter = 1\n",
    "vid = r\"direcory path for video\"\n",
    "cap = cv2.VideoCapture(vid)\n",
    "count = 0\n",
    "counter += 1\n",
    "success = True\n",
    "while success:\n",
    "    success,image = cap.read()\n",
    "    print('read a new frame:',success)\n",
    "    # make images file every nth frame\n",
    "    if count%15 == 0 :\n",
    "            cv2.imwrite(pathOut + 'frame%d.jpg'%count,image)\n",
    "    count+=1"
   ]
  }
 ],
 "metadata": {
  "kernelspec": {
   "display_name": "Python 3.8.6 64-bit",
   "language": "python",
   "name": "python3"
  },
  "language_info": {
   "codemirror_mode": {
    "name": "ipython",
    "version": 3
   },
   "file_extension": ".py",
   "mimetype": "text/x-python",
   "name": "python",
   "nbconvert_exporter": "python",
   "pygments_lexer": "ipython3",
   "version": "3.8.6"
  },
  "orig_nbformat": 4,
  "vscode": {
   "interpreter": {
    "hash": "b4f35bca6a71977831938391b01dd58e3be6d850637f3133a6b1f36e4548f4f9"
   }
  }
 },
 "nbformat": 4,
 "nbformat_minor": 2
}
