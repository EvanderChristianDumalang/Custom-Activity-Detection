{
 "cells": [
  {
   "cell_type": "markdown",
   "metadata": {},
   "source": [
    "This is for making datasets to train."
   ]
  },
  {
   "cell_type": "code",
   "execution_count": null,
   "metadata": {},
   "outputs": [],
   "source": [
    "# make csv file and header for data\n",
    "import csv\n",
    "import os\n",
    "import numpy as np\n",
    "num_coords = len(results.pose_landmarks.landmark)\n",
    "num_coords\n",
    "landmarks = ['class']\n",
    "\n",
    "# Create a list of the landmark names\n",
    "for val in range(1, num_coords+1):\n",
    "    landmarks += ['x{}'.format(val), 'y{}'.format(val),\n",
    "                  'z{}'.format(val), 'v{}'.format(val)]\n",
    "\n",
    "# Make CSV file with header\n",
    "with open('coords.csv', mode='w', newline='') as f:\n",
    "    csv_writer = csv.writer(\n",
    "        f, delimiter=',', quotechar='\"', quoting=csv.QUOTE_MINIMAL)\n",
    "    csv_writer.writerow(landmarks)\n"
   ]
  },
  {
   "cell_type": "code",
   "execution_count": null,
   "metadata": {},
   "outputs": [],
   "source": [
    "# Activity Class\n",
    "class_name = \"activity name\"\n"
   ]
  },
  {
   "cell_type": "code",
   "execution_count": null,
   "metadata": {},
   "outputs": [],
   "source": [
    "# Get the coordinates from every images\n",
    "import cv2\n",
    "import mediapipe as mp\n",
    "import numpy as np\n",
    "import pandas as pd\n",
    "import glob\n",
    "import csv\n",
    "mp_drawing = mp.solutions.drawing_utils\n",
    "mp_drawing_styles = mp.solutions.drawing_styles\n",
    "mp_pose = mp.solutions.pose\n",
    "\n",
    "# For Image Processing\n",
    "data = []\n",
    "img_dir = \"directory path for images\"\n",
    "data_path = os.path.join(img_dir, '*g')\n",
    "files = glob.glob(data_path)\n",
    "BG_COLOR = (192, 192, 192)  # gray\n",
    "\n",
    "with mp_pose.Pose(\n",
    "        static_image_mode=True,\n",
    "        model_complexity=1,\n",
    "        enable_segmentation=True,\n",
    "        min_detection_confidence=0.1) as pose:\n",
    "\n",
    "    for idx, file in enumerate(files):\n",
    "        # Input Blazepose\n",
    "        image = cv2.imread(file)\n",
    "        image_height, image_width, _ = image.shape\n",
    "        results = pose.process(cv2.cvtColor(image, cv2.COLOR_BGR2RGB))\n",
    "        print(idx, file)\n",
    "        try:\n",
    "            for landmark in results.pose_landmarks.landmark:\n",
    "                x = int(landmark.x * image.shape[1])\n",
    "                y = int(landmark.y * image.shape[0])\n",
    "                annotated_image = image.copy()\n",
    "                condition = np.stack(\n",
    "                    (results.segmentation_mask,) * 3, axis=-1) > 0.1\n",
    "                bg_image = np.zeros(image.shape, dtype=np.uint8)\n",
    "                bg_image[:] = BG_COLOR\n",
    "                annotated_image = np.where(\n",
    "                    condition, annotated_image, bg_image)\n",
    "                mp_drawing.draw_landmarks(\n",
    "                    annotated_image,\n",
    "                    results.pose_landmarks,\n",
    "                    mp_pose.POSE_CONNECTIONS,\n",
    "                    landmark_drawing_spec=mp_drawing_styles.get_default_pose_landmarks_style())\n",
    "            # Output Blazepose\n",
    "            data = results.pose_landmarks.landmark\n",
    "            pose_row = list(np.array(\n",
    "                [[landmark.x, landmark.y, landmark.z, landmark.visibility] for landmark in data]).flatten())\n",
    "            row = pose_row\n",
    "            row.insert(0, class_name)\n",
    "\n",
    "            # Write to CSV file\n",
    "            with open('coords1.csv', mode='a', newline='') as f:\n",
    "                csv_writer = csv.writer(\n",
    "                    f, delimiter=',', quotechar='\"', quoting=csv.QUOTE_MINIMAL)\n",
    "                csv_writer.writerow(row)\n",
    "        except:\n",
    "            # If caught an error, skip the image\n",
    "            print(\"Error\")\n",
    "            continue\n"
   ]
  }
 ],
 "metadata": {
  "interpreter": {
   "hash": "b4f35bca6a71977831938391b01dd58e3be6d850637f3133a6b1f36e4548f4f9"
  },
  "kernelspec": {
   "display_name": "Python 3.8.6 64-bit",
   "language": "python",
   "name": "python3"
  },
  "language_info": {
   "codemirror_mode": {
    "name": "ipython",
    "version": 3
   },
   "file_extension": ".py",
   "mimetype": "text/x-python",
   "name": "python",
   "nbconvert_exporter": "python",
   "pygments_lexer": "ipython3",
   "version": "3.8.6"
  },
  "orig_nbformat": 4
 },
 "nbformat": 4,
 "nbformat_minor": 2
}
